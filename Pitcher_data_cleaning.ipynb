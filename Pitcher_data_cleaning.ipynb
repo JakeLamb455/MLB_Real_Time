{
 "cells": [
  {
   "cell_type": "code",
   "execution_count": 128,
   "id": "57b43754",
   "metadata": {},
   "outputs": [
    {
     "name": "stderr",
     "output_type": "stream",
     "text": [
      "C:\\Users\\jamla\\AppData\\Local\\Temp\\ipykernel_26540\\3198263063.py:3: DtypeWarning: Columns (119) have mixed types. Specify dtype option on import or set low_memory=False.\n",
      "  df = pd.read_csv(\"padres_pitch_data.csv\")\n"
     ]
    }
   ],
   "source": [
    "import pandas as pd\n",
    "import numpy as np\n",
    "df = pd.read_csv(\"padres_pitch_data.csv\")\n",
    "df = df[['pitch_type', 'game_date', 'pitcher', 'batter', 'player_name', 'game_pk', 'pitch_number', 'at_bat_number','inning', 'balls', 'strikes', 'zone', 'outs_when_up', 'inning_topbot', 'fld_score', 'bat_score', 'on_1b', 'on_2b', 'on_3b', 'if_fielding_alignment', 'of_fielding_alignment', 'plate_x', 'plate_z']]\n",
    "df[['pitcher', 'batter', 'game_pk']] = df[['pitcher', 'batter', 'game_pk']].astype('Int64')\n",
    "df_filt = df.dropna(subset=['pitch_type', 'zone'])\n",
    "df_filt = df_filt.sort_values(by=['game_pk','pitcher', 'at_bat_number', 'pitch_number'],\n",
    "                             ascending=True)\n",
    "df_filt['pitch_count'] = df_filt.groupby(['game_pk','pitcher']).cumcount()+1\n",
    "df_filt = df_filt.sort_values(by=['game_pk', 'at_bat_number', 'pitch_number'], ascending = True)\n",
    "\n",
    "df_filt['prev_pitch_type'] = (\n",
    "    df_filt.groupby(['game_pk', 'at_bat_number', 'pitcher'])['pitch_type']\n",
    "    .shift(1)\n",
    ")\n",
    "df_filt['prev_pitch_type'] = df_filt['prev_pitch_type'].fillna('firstPitch')\n",
    "df_filt[['on_1b', 'on_2b', 'on_3b']] = df_filt[['on_1b', 'on_2b', 'on_3b']].notna().astype(int)\n",
    "df_filt['score_diff'] = df_filt['fld_score'] - df_filt['bat_score']\n",
    "df_filt.to_csv('pitcher_data_cleaned.csv')"
   ]
  }
 ],
 "metadata": {
  "kernelspec": {
   "display_name": "Python 3 (ipykernel)",
   "language": "python",
   "name": "python3"
  },
  "language_info": {
   "codemirror_mode": {
    "name": "ipython",
    "version": 3
   },
   "file_extension": ".py",
   "mimetype": "text/x-python",
   "name": "python",
   "nbconvert_exporter": "python",
   "pygments_lexer": "ipython3",
   "version": "3.11.4"
  }
 },
 "nbformat": 4,
 "nbformat_minor": 5
}
