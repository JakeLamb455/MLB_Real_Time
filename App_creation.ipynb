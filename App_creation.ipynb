{
 "cells": [
  {
   "cell_type": "code",
   "execution_count": 6,
   "id": "e7819b8e",
   "metadata": {},
   "outputs": [
    {
     "name": "stdout",
     "output_type": "stream",
     "text": [
      "Requirement already satisfied: MLB-statsAPI in c:\\users\\jamla\\anaconda33\\lib\\site-packages (1.9.0)\n",
      "Requirement already satisfied: requests in c:\\users\\jamla\\anaconda33\\lib\\site-packages (from MLB-statsAPI) (2.31.0)\n",
      "Requirement already satisfied: charset-normalizer<4,>=2 in c:\\users\\jamla\\anaconda33\\lib\\site-packages (from requests->MLB-statsAPI) (2.0.4)\n",
      "Requirement already satisfied: idna<4,>=2.5 in c:\\users\\jamla\\anaconda33\\lib\\site-packages (from requests->MLB-statsAPI) (3.4)\n",
      "Requirement already satisfied: urllib3<3,>=1.21.1 in c:\\users\\jamla\\anaconda33\\lib\\site-packages (from requests->MLB-statsAPI) (2.2.1)\n",
      "Requirement already satisfied: certifi>=2017.4.17 in c:\\users\\jamla\\anaconda33\\lib\\site-packages (from requests->MLB-statsAPI) (2023.7.22)\n",
      "Note: you may need to restart the kernel to use updated packages.\n"
     ]
    }
   ],
   "source": [
    "pip install MLB-statsAPI"
   ]
  },
  {
   "cell_type": "code",
   "execution_count": 70,
   "id": "21f46fc3",
   "metadata": {},
   "outputs": [],
   "source": [
    "import streamlit as st\n",
    "import pickle\n",
    "import pandas as pd\n",
    "from datetime import date, timedelta\n",
    "import statsapi\n",
    "import joblib\n"
   ]
  },
  {
   "cell_type": "code",
   "execution_count": 71,
   "id": "b532ce88",
   "metadata": {},
   "outputs": [],
   "source": [
    "model = joblib.load('best_pitch_model.pkl')"
   ]
  },
  {
   "cell_type": "code",
   "execution_count": 72,
   "id": "053a5dd9",
   "metadata": {},
   "outputs": [],
   "source": [
    "schedule = statsapi.schedule(start_date=date.today(), end_date=date.today(), team=\"135\",sportId=1)\n",
    "if schedule:\n",
    "    game_id = schedule[0]['game_id']"
   ]
  },
  {
   "cell_type": "code",
   "execution_count": 74,
   "id": "e88a1272",
   "metadata": {},
   "outputs": [],
   "source": [
    "def get_padres_pitchers():\n",
    "    team_id = 135  # San Diego Padres\n",
    "    roster = statsapi.get('team_roster', {'teamId': team_id})\n",
    "    \n",
    "    pitchers = []\n",
    "    for player in roster.get('roster', []):\n",
    "        if player['position']['type'] == 'Pitcher':\n",
    "            pitchers.append({\n",
    "                'id': player['person']['id'],\n",
    "                'name': player['person']['fullName']\n",
    "            })\n",
    "    return pitchers\n",
    "\n",
    "pitchers = get_padres_pitchers()\n",
    "pitcher_ids = [p['id'] for p in pitchers]"
   ]
  },
  {
   "cell_type": "code",
   "execution_count": 75,
   "id": "8685fa4d",
   "metadata": {},
   "outputs": [],
   "source": [
    "def get_next_padres_pitch_context(game_id, padres_pitcher_ids):\n",
    "    live_feed = statsapi.get('game_playByPlay', {'gamePk': game_id})\n",
    "    all_plays = live_feed.get('allPlays', [])\n",
    "\n",
    "    for i in range(len(all_plays) - 1):\n",
    "        play = all_plays[i]\n",
    "        next_play = all_plays[i + 1]\n",
    "\n",
    "        if 'pitchIndex' in play:\n",
    "            pitcher_id = play.get('matchup', {}).get('pitcher', {}).get('id')\n",
    "            if pitcher_id in padres_pitcher_ids:\n",
    "                pitch_event = play.get('playEvents', [{}])[-1]\n",
    "                prev_pitch_type = pitch_event.get('details', {}).get('type', {}).get('code', 'firstPitch')\n",
    "\n",
    "                state = next_play\n",
    "                matchup = state.get('matchup', {})\n",
    "                about = state.get('about')\n",
    "                count = state.get('count', {})\n",
    "\n",
    "                if about is None:\n",
    "                    print(f\"Warning: 'about' missing in play index {i+1}\")\n",
    "                    continue  # skip this iteration\n",
    "\n",
    "                is_top_inning = about.get('isTopInning', True)\n",
    "\n",
    "                features = {\n",
    "                    'pitcher': matchup.get('pitcher', {}).get('id', 'None'),\n",
    "                    'batter': matchup.get('batter', {}).get('id', 'None'),\n",
    "                    'on_1b': int('first' in state.get('runnersOn', [])),\n",
    "                    'on_2b': int('second' in state.get('runnersOn', [])),\n",
    "                    'on_3b': int('third' in state.get('runnersOn', [])),\n",
    "                    'if_fielding_alignment': state.get('defensiveAlignment', 'standard'),\n",
    "                    'of_fielding_alignment': state.get('outfieldAlignment', 'standard'),\n",
    "                    'prev_pitch_type': prev_pitch_type,\n",
    "                    'inning': about.get('inning', 1),\n",
    "                    'balls': count.get('balls', 0),\n",
    "                    'strikes': count.get('strikes', 0),\n",
    "                    'outs_when_up': count.get('outs', 0),\n",
    "                    'score_diff': 0\n",
    "                }\n",
    "\n",
    "                return features\n",
    "\n",
    "    return None\n"
   ]
  },
  {
   "cell_type": "code",
   "execution_count": 76,
   "id": "b1ee1075",
   "metadata": {},
   "outputs": [],
   "source": [
    "data = get_next_padres_pitch_context(game_id, pitcher_ids)\n",
    "input_df = pd.DataFrame([data])\n",
    "#input_df"
   ]
  },
  {
   "cell_type": "code",
   "execution_count": 80,
   "id": "a1062df0",
   "metadata": {},
   "outputs": [],
   "source": [
    "encode_dict = {0: 'CH',\n",
    " 1: 'CU',\n",
    " 2: 'FC',\n",
    " 3: 'FF',\n",
    " 4: 'FS',\n",
    " 5: 'KC',\n",
    " 6: 'SI',\n",
    " 7: 'SL',\n",
    " 8: 'ST'}"
   ]
  },
  {
   "cell_type": "code",
   "execution_count": 84,
   "id": "04bf1dbb",
   "metadata": {},
   "outputs": [],
   "source": [
    "code_to_name = {'ST': 'Sweeper',\n",
    " 'CH': 'Changeup',\n",
    " 'FF': 'Four Seam Fastball',\n",
    " 'SI': 'Sinker',\n",
    " 'SL': 'Slider',\n",
    " 'FC': 'Cutter',\n",
    " 'CU': 'Curveball',\n",
    " 'KC': 'Knuckleball',\n",
    " 'FS': 'Split-finger'}"
   ]
  },
  {
   "cell_type": "code",
   "execution_count": 87,
   "id": "83b85aa1",
   "metadata": {},
   "outputs": [
    {
     "name": "stdout",
     "output_type": "stream",
     "text": [
      "Predicted pitch type: Cutter\n"
     ]
    }
   ],
   "source": [
    "prediction = model.predict(input_df)\n",
    "pitch_type = encode_dict.get(prediction[0])\n",
    "name_of_pitch = code_to_name.get(pitch_type)\n",
    "print(\"Predicted pitch type:\", name_of_pitch)"
   ]
  },
  {
   "cell_type": "code",
   "execution_count": 88,
   "id": "7dce2507",
   "metadata": {},
   "outputs": [
    {
     "name": "stderr",
     "output_type": "stream",
     "text": [
      "2025-05-21 23:25:08.432 Thread 'MainThread': missing ScriptRunContext! This warning can be ignored when running in bare mode.\n",
      "2025-05-21 23:25:08.434 Thread 'MainThread': missing ScriptRunContext! This warning can be ignored when running in bare mode.\n",
      "2025-05-21 23:25:08.435 Thread 'MainThread': missing ScriptRunContext! This warning can be ignored when running in bare mode.\n",
      "2025-05-21 23:25:08.436 Thread 'MainThread': missing ScriptRunContext! This warning can be ignored when running in bare mode.\n",
      "2025-05-21 23:25:08.437 Thread 'MainThread': missing ScriptRunContext! This warning can be ignored when running in bare mode.\n",
      "2025-05-21 23:25:08.439 Thread 'MainThread': missing ScriptRunContext! This warning can be ignored when running in bare mode.\n",
      "2025-05-21 23:25:08.440 Thread 'MainThread': missing ScriptRunContext! This warning can be ignored when running in bare mode.\n"
     ]
    }
   ],
   "source": [
    "st.title(\"Pitch Type Predictor\")\n",
    "\n",
    "if st.button(\"Predict Pitch Type\"):\n",
    "    prediction = model.predict(input_df)\n",
    "    pitch_type = encode_dict.get(prediction[0])\n",
    "    name_of_pitch = code_to_name.get(pitch_type)\n",
    "    st.write(f\"Predicted pitch type: {name_of_pitch}\")"
   ]
  },
  {
   "cell_type": "code",
   "execution_count": null,
   "id": "45e56b26",
   "metadata": {},
   "outputs": [],
   "source": []
  }
 ],
 "metadata": {
  "kernelspec": {
   "display_name": "Python 3 (ipykernel)",
   "language": "python",
   "name": "python3"
  },
  "language_info": {
   "codemirror_mode": {
    "name": "ipython",
    "version": 3
   },
   "file_extension": ".py",
   "mimetype": "text/x-python",
   "name": "python",
   "nbconvert_exporter": "python",
   "pygments_lexer": "ipython3",
   "version": "3.11.4"
  }
 },
 "nbformat": 4,
 "nbformat_minor": 5
}
