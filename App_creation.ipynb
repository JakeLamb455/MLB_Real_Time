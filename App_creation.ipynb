{
 "cells": [
  {
   "cell_type": "code",
   "execution_count": 1,
   "id": "e7819b8e",
   "metadata": {
    "scrolled": true
   },
   "outputs": [
    {
     "name": "stdout",
     "output_type": "stream",
     "text": [
      "Requirement already satisfied: MLB-statsAPI in c:\\users\\jamla\\anaconda33\\lib\\site-packages (1.9.0)\n",
      "Requirement already satisfied: requests in c:\\users\\jamla\\anaconda33\\lib\\site-packages (from MLB-statsAPI) (2.31.0)\n",
      "Requirement already satisfied: charset-normalizer<4,>=2 in c:\\users\\jamla\\anaconda33\\lib\\site-packages (from requests->MLB-statsAPI) (2.0.4)\n",
      "Requirement already satisfied: idna<4,>=2.5 in c:\\users\\jamla\\anaconda33\\lib\\site-packages (from requests->MLB-statsAPI) (3.4)\n",
      "Requirement already satisfied: urllib3<3,>=1.21.1 in c:\\users\\jamla\\anaconda33\\lib\\site-packages (from requests->MLB-statsAPI) (2.2.1)\n",
      "Requirement already satisfied: certifi>=2017.4.17 in c:\\users\\jamla\\anaconda33\\lib\\site-packages (from requests->MLB-statsAPI) (2023.7.22)\n",
      "Note: you may need to restart the kernel to use updated packages.\n"
     ]
    }
   ],
   "source": [
    "pip install MLB-statsAPI"
   ]
  },
  {
   "cell_type": "code",
   "execution_count": 192,
   "id": "21f46fc3",
   "metadata": {},
   "outputs": [],
   "source": [
    "import streamlit as st\n",
    "import pickle\n",
    "import pandas as pd\n",
    "from datetime import date, timedelta\n",
    "import statsapi\n",
    "import joblib\n"
   ]
  },
  {
   "cell_type": "code",
   "execution_count": 193,
   "id": "b532ce88",
   "metadata": {},
   "outputs": [],
   "source": [
    "model = joblib.load('best_pitch_model.pkl')"
   ]
  },
  {
   "cell_type": "code",
   "execution_count": 194,
   "id": "053a5dd9",
   "metadata": {},
   "outputs": [],
   "source": [
    "schedule = statsapi.schedule(start_date=date.today(), end_date=date.today(), team=\"135\",sportId=1)\n",
    "if schedule:\n",
    "    game_id = schedule[0]['game_id']"
   ]
  },
  {
   "cell_type": "code",
   "execution_count": 195,
   "id": "e88a1272",
   "metadata": {},
   "outputs": [],
   "source": [
    "def get_padres_pitchers():\n",
    "    team_id = 135  # San Diego Padres\n",
    "    roster = statsapi.get('team_roster', {'teamId': team_id})\n",
    "    \n",
    "    pitchers = []\n",
    "    for player in roster.get('roster', []):\n",
    "        if player['position']['type'] == 'Pitcher':\n",
    "            pitchers.append({\n",
    "                'id': player['person']['id'],\n",
    "                'name': player['person']['fullName']\n",
    "            })\n",
    "    return pitchers\n",
    "\n",
    "pitchers = get_padres_pitchers()\n",
    "pitcher_ids = [p['id'] for p in pitchers]"
   ]
  },
  {
   "cell_type": "code",
   "execution_count": 196,
   "id": "8a48c881",
   "metadata": {},
   "outputs": [],
   "source": [
    "live_feed = statsapi.get('game_playByPlay', {'gamePk': game_id})\n",
    "all_plays = live_feed.get('allPlays', [])"
   ]
  },
  {
   "cell_type": "code",
   "execution_count": 223,
   "id": "31e44b49",
   "metadata": {
    "scrolled": false
   },
   "outputs": [
    {
     "name": "stdout",
     "output_type": "stream",
     "text": [
      "CH\n"
     ]
    },
    {
     "data": {
      "text/plain": [
       "{'balls': 1, 'strikes': 2, 'outs': 1}"
      ]
     },
     "execution_count": 223,
     "metadata": {},
     "output_type": "execute_result"
    }
   ],
   "source": [
    "live_feed = statsapi.get('game_playByPlay', {'gamePk': game_id})\n",
    "all_plays = live_feed.get('allPlays', [])\n",
    "current_play = all_plays[len(all_plays)-1]\n",
    "play_events = current_play.get('playEvents', [])\n",
    "if play_events:\n",
    "    prev_pitch_type = play_events[-1].get('details', {}).get('type', {}).get('code', 'firstPitch')\n",
    "else:\n",
    "    prev_pitch_type = 'firstPitch'\n",
    "print(prev_pitch_type)\n",
    "current_play['count']"
   ]
  },
  {
   "cell_type": "code",
   "execution_count": 203,
   "id": "619d5495",
   "metadata": {},
   "outputs": [
    {
     "ename": "TypeError",
     "evalue": "unsupported operand type(s) for -: 'NoneType' and 'NoneType'",
     "output_type": "error",
     "traceback": [
      "\u001b[1;31m---------------------------------------------------------------------------\u001b[0m",
      "\u001b[1;31mTypeError\u001b[0m                                 Traceback (most recent call last)",
      "Cell \u001b[1;32mIn[203], line 1\u001b[0m\n\u001b[1;32m----> 1\u001b[0m \u001b[38;5;28mabs\u001b[39m(current_play[\u001b[38;5;124m'\u001b[39m\u001b[38;5;124mresult\u001b[39m\u001b[38;5;124m'\u001b[39m]\u001b[38;5;241m.\u001b[39mget(\u001b[38;5;124m'\u001b[39m\u001b[38;5;124mhome_score\u001b[39m\u001b[38;5;124m'\u001b[39m) \u001b[38;5;241m-\u001b[39m current_play[\u001b[38;5;124m'\u001b[39m\u001b[38;5;124mresult\u001b[39m\u001b[38;5;124m'\u001b[39m]\u001b[38;5;241m.\u001b[39mget(\u001b[38;5;124m'\u001b[39m\u001b[38;5;124maway_score\u001b[39m\u001b[38;5;124m'\u001b[39m))\n",
      "\u001b[1;31mTypeError\u001b[0m: unsupported operand type(s) for -: 'NoneType' and 'NoneType'"
     ]
    }
   ],
   "source": [
    "abs(current_play['result'].get('home_score') - current_play['result'].get('away_score'))"
   ]
  },
  {
   "cell_type": "code",
   "execution_count": 206,
   "id": "8685fa4d",
   "metadata": {},
   "outputs": [],
   "source": [
    "def get_next_padres_pitch_context(game_id, padres_pitcher_ids):\n",
    "    live_feed = statsapi.get('game_playByPlay', {'gamePk': game_id})\n",
    "    all_plays = live_feed.get('allPlays', [])\n",
    "    current_play = all_plays[-1]\n",
    "\n",
    "    \n",
    "    features = {\n",
    "        'pitcher': current_play['matchup'].get('pitcher', {}).get('id', 'None'),\n",
    "        'batter': current_play['matchup'].get('batter', {}).get('id', 'None'),\n",
    "        'on_1b': int('postOnFirst' in current_play['matchup']),\n",
    "        'on_2b': int('postOnSecond' in current_play['matchup']),\n",
    "        'on_3b': int('postOnThird' in current_play['matchup']),\n",
    "        'prev_pitch_type': current_play['playEvents'][len(current_play['playEvents'])-1]['details']['type'].get('code', 'firstPitch'),\n",
    "        'inning':  current_play['about'].get('inning'),\n",
    "        'balls':  current_play['count'].get('balls'),\n",
    "        'strikes': current_play['count'].get('strikes'),\n",
    "        'outs_when_up': current_play['count'].get('outs'),\n",
    "        'score_diff': abs(current_play['result'].get('homeScore') - current_play['result'].get('awayScore'))\n",
    "                }\n",
    "\n",
    "    return features\n"
   ]
  },
  {
   "cell_type": "code",
   "execution_count": 207,
   "id": "b1ee1075",
   "metadata": {},
   "outputs": [
    {
     "data": {
      "text/html": [
       "<div>\n",
       "<style scoped>\n",
       "    .dataframe tbody tr th:only-of-type {\n",
       "        vertical-align: middle;\n",
       "    }\n",
       "\n",
       "    .dataframe tbody tr th {\n",
       "        vertical-align: top;\n",
       "    }\n",
       "\n",
       "    .dataframe thead th {\n",
       "        text-align: right;\n",
       "    }\n",
       "</style>\n",
       "<table border=\"1\" class=\"dataframe\">\n",
       "  <thead>\n",
       "    <tr style=\"text-align: right;\">\n",
       "      <th></th>\n",
       "      <th>pitcher</th>\n",
       "      <th>batter</th>\n",
       "      <th>on_1b</th>\n",
       "      <th>on_2b</th>\n",
       "      <th>on_3b</th>\n",
       "      <th>prev_pitch_type</th>\n",
       "      <th>inning</th>\n",
       "      <th>balls</th>\n",
       "      <th>strikes</th>\n",
       "      <th>outs_when_up</th>\n",
       "      <th>score_diff</th>\n",
       "    </tr>\n",
       "  </thead>\n",
       "  <tbody>\n",
       "    <tr>\n",
       "      <th>0</th>\n",
       "      <td>571760</td>\n",
       "      <td>650333</td>\n",
       "      <td>0</td>\n",
       "      <td>0</td>\n",
       "      <td>0</td>\n",
       "      <td>FF</td>\n",
       "      <td>3</td>\n",
       "      <td>2</td>\n",
       "      <td>0</td>\n",
       "      <td>2</td>\n",
       "      <td>2</td>\n",
       "    </tr>\n",
       "  </tbody>\n",
       "</table>\n",
       "</div>"
      ],
      "text/plain": [
       "   pitcher  batter  on_1b  on_2b  on_3b prev_pitch_type  inning  balls  \\\n",
       "0   571760  650333      0      0      0              FF       3      2   \n",
       "\n",
       "   strikes  outs_when_up  score_diff  \n",
       "0        0             2           2  "
      ]
     },
     "execution_count": 207,
     "metadata": {},
     "output_type": "execute_result"
    }
   ],
   "source": [
    "data = get_next_padres_pitch_context(game_id, pitcher_ids)\n",
    "input_df = pd.DataFrame([data])\n",
    "input_df"
   ]
  },
  {
   "cell_type": "code",
   "execution_count": 80,
   "id": "a1062df0",
   "metadata": {},
   "outputs": [],
   "source": [
    "encode_dict = {0: 'CH',\n",
    " 1: 'CU',\n",
    " 2: 'FC',\n",
    " 3: 'FF',\n",
    " 4: 'FS',\n",
    " 5: 'KC',\n",
    " 6: 'SI',\n",
    " 7: 'SL',\n",
    " 8: 'ST'}"
   ]
  },
  {
   "cell_type": "code",
   "execution_count": 84,
   "id": "04bf1dbb",
   "metadata": {},
   "outputs": [],
   "source": [
    "code_to_name = {'ST': 'Sweeper',\n",
    " 'CH': 'Changeup',\n",
    " 'FF': 'Four Seam Fastball',\n",
    " 'SI': 'Sinker',\n",
    " 'SL': 'Slider',\n",
    " 'FC': 'Cutter',\n",
    " 'CU': 'Curveball',\n",
    " 'KC': 'Knuckleball',\n",
    " 'FS': 'Split-finger'}"
   ]
  },
  {
   "cell_type": "code",
   "execution_count": 87,
   "id": "83b85aa1",
   "metadata": {},
   "outputs": [
    {
     "name": "stdout",
     "output_type": "stream",
     "text": [
      "Predicted pitch type: Cutter\n"
     ]
    }
   ],
   "source": [
    "prediction = model.predict(input_df)\n",
    "pitch_type = encode_dict.get(prediction[0])\n",
    "name_of_pitch = code_to_name.get(pitch_type)\n",
    "print(\"Predicted pitch type:\", name_of_pitch)"
   ]
  },
  {
   "cell_type": "code",
   "execution_count": 88,
   "id": "7dce2507",
   "metadata": {},
   "outputs": [
    {
     "name": "stderr",
     "output_type": "stream",
     "text": [
      "2025-05-21 23:25:08.432 Thread 'MainThread': missing ScriptRunContext! This warning can be ignored when running in bare mode.\n",
      "2025-05-21 23:25:08.434 Thread 'MainThread': missing ScriptRunContext! This warning can be ignored when running in bare mode.\n",
      "2025-05-21 23:25:08.435 Thread 'MainThread': missing ScriptRunContext! This warning can be ignored when running in bare mode.\n",
      "2025-05-21 23:25:08.436 Thread 'MainThread': missing ScriptRunContext! This warning can be ignored when running in bare mode.\n",
      "2025-05-21 23:25:08.437 Thread 'MainThread': missing ScriptRunContext! This warning can be ignored when running in bare mode.\n",
      "2025-05-21 23:25:08.439 Thread 'MainThread': missing ScriptRunContext! This warning can be ignored when running in bare mode.\n",
      "2025-05-21 23:25:08.440 Thread 'MainThread': missing ScriptRunContext! This warning can be ignored when running in bare mode.\n"
     ]
    }
   ],
   "source": [
    "st.title(\"Pitch Type Predictor\")\n",
    "\n",
    "if st.button(\"Predict Pitch Type\"):\n",
    "    prediction = model.predict(input_df)\n",
    "    pitch_type = encode_dict.get(prediction[0])\n",
    "    name_of_pitch = code_to_name.get(pitch_type)\n",
    "    st.write(f\"Predicted pitch type: {name_of_pitch}\")"
   ]
  },
  {
   "cell_type": "code",
   "execution_count": 41,
   "id": "d01e83ce",
   "metadata": {},
   "outputs": [
    {
     "name": "stdout",
     "output_type": "stream",
     "text": [
      "Empty DataFrame\n",
      "Columns: []\n",
      "Index: []\n"
     ]
    }
   ],
   "source": [
    "import requests\n",
    "import pandas as pd\n",
    "\n",
    "game_id = game_id  # replace with your gamePk\n",
    "url = f\"https://statsapi.mlb.com/api/v1.1/game/{game_id}/feed/live\"\n",
    "response = requests.get(url)\n",
    "live_feed = response.json()\n",
    "\n",
    "teams = live_feed[\"gameData\"][\"teams\"]\n",
    "home_team_id = teams[\"home\"][\"id\"]\n",
    "away_team_id = teams[\"away\"][\"id\"]\n",
    "\n",
    "all_plays = live_feed.get(\"liveData\", {}).get(\"plays\", {}).get(\"allPlays\", [])\n",
    "data = []\n",
    "\n",
    "for play in all_plays:\n",
    "    matchup = play.get(\"matchup\", {})\n",
    "    result = play.get(\"result\", {})\n",
    "    count = play.get(\"count\", {})\n",
    "    about = play.get(\"about\", {})\n",
    "    runners = play.get(\"runners\", [])\n",
    "    pitch_events = play.get(\"pitchEvents\", [])\n",
    "\n",
    "    if not pitch_events:\n",
    "        continue\n",
    "\n",
    "    # Determine last pitch type properly\n",
    "    if len(pitch_events) == 1:\n",
    "        # This is the first pitch of the at-bat\n",
    "        last_pitch_type = \"firstpitch\"\n",
    "    else:\n",
    "        # Get the pitch type of the pitch *before* the current pitch\n",
    "        last_pitch_type = None\n",
    "        for event in reversed(pitch_events[:-1]):\n",
    "            pt = event.get(\"details\", {}).get(\"type\", {}).get(\"code\")\n",
    "            if pt:\n",
    "                last_pitch_type = pt\n",
    "                break\n",
    "        if last_pitch_type is None:\n",
    "            last_pitch_type = \"firstpitch\"\n",
    "\n",
    "    # Baserunners\n",
    "    on_1b = 0\n",
    "    on_2b = 0\n",
    "    for runner in runners:\n",
    "        base = runner.get(\"movement\", {}).get(\"start\")\n",
    "        if base == \"1B\":\n",
    "            on_1b = 1\n",
    "        elif base == \"2B\":\n",
    "            on_2b = 1\n",
    "\n",
    "    # Score differential\n",
    "    home_score = about.get(\"homeScore\", 0)\n",
    "    away_score = about.get(\"awayScore\", 0)\n",
    "    pitcher_team_id = matchup.get(\"pitcher\", {}).get(\"currentTeam\", {}).get(\"id\")\n",
    "    score_diff = (home_score - away_score) if pitcher_team_id == home_team_id else (away_score - home_score)\n",
    "\n",
    "    data.append({\n",
    "        \"pitcher_id\": matchup.get(\"pitcher\", {}).get(\"id\"),\n",
    "        \"batter_id\": matchup.get(\"batter\", {}).get(\"id\"),\n",
    "        \"inning\": about.get(\"inning\"),\n",
    "        \"balls\": count.get(\"balls\"),\n",
    "        \"strikes\": count.get(\"strikes\"),\n",
    "        \"outs\": count.get(\"outs\"),\n",
    "        \"last_pitch_type\": last_pitch_type,\n",
    "        \"score_diff\": score_diff,\n",
    "        \"on_1b\": on_1b,\n",
    "        \"on_2b\": on_2b,\n",
    "        \"event\": result.get(\"event\")\n",
    "    })\n",
    "\n",
    "df = pd.DataFrame(data)\n",
    "print(df.head())\n"
   ]
  },
  {
   "cell_type": "code",
   "execution_count": 42,
   "id": "e3514cb9",
   "metadata": {},
   "outputs": [
    {
     "data": {
      "text/html": [
       "<div>\n",
       "<style scoped>\n",
       "    .dataframe tbody tr th:only-of-type {\n",
       "        vertical-align: middle;\n",
       "    }\n",
       "\n",
       "    .dataframe tbody tr th {\n",
       "        vertical-align: top;\n",
       "    }\n",
       "\n",
       "    .dataframe thead th {\n",
       "        text-align: right;\n",
       "    }\n",
       "</style>\n",
       "<table border=\"1\" class=\"dataframe\">\n",
       "  <thead>\n",
       "    <tr style=\"text-align: right;\">\n",
       "      <th></th>\n",
       "    </tr>\n",
       "  </thead>\n",
       "  <tbody>\n",
       "  </tbody>\n",
       "</table>\n",
       "</div>"
      ],
      "text/plain": [
       "Empty DataFrame\n",
       "Columns: []\n",
       "Index: []"
      ]
     },
     "execution_count": 42,
     "metadata": {},
     "output_type": "execute_result"
    }
   ],
   "source": [
    "df"
   ]
  },
  {
   "cell_type": "code",
   "execution_count": 46,
   "id": "dfa9faa4",
   "metadata": {},
   "outputs": [
    {
     "ename": "SyntaxError",
     "evalue": "invalid syntax (1101770160.py, line 1)",
     "output_type": "error",
     "traceback": [
      "\u001b[1;36m  Cell \u001b[1;32mIn[46], line 1\u001b[1;36m\u001b[0m\n\u001b[1;33m    https://statsapi.mlb.com/api/v1/eventTypes\u001b[0m\n\u001b[1;37m          ^\u001b[0m\n\u001b[1;31mSyntaxError\u001b[0m\u001b[1;31m:\u001b[0m invalid syntax\n"
     ]
    }
   ],
   "source": [
    "https://statsapi.mlb.com/api/v1/eventTypes"
   ]
  },
  {
   "cell_type": "code",
   "execution_count": 59,
   "id": "6de1aa65",
   "metadata": {},
   "outputs": [],
   "source": [
    "url = f\"https://statsapi.mlb.com/api/v1/eventTypes\"\n",
    "response = requests.get(url)\n",
    "live_feed = response.json()"
   ]
  },
  {
   "cell_type": "code",
   "execution_count": 61,
   "id": "f0b3fc03",
   "metadata": {},
   "outputs": [
    {
     "ename": "NameError",
     "evalue": "name 'code' is not defined",
     "output_type": "error",
     "traceback": [
      "\u001b[1;31m---------------------------------------------------------------------------\u001b[0m",
      "\u001b[1;31mNameError\u001b[0m                                 Traceback (most recent call last)",
      "Cell \u001b[1;32mIn[61], line 1\u001b[0m\n\u001b[1;32m----> 1\u001b[0m [code \u001b[38;5;28;01mfor\u001b[39;00m codes \u001b[38;5;129;01min\u001b[39;00m live_feed]\n",
      "Cell \u001b[1;32mIn[61], line 1\u001b[0m, in \u001b[0;36m<listcomp>\u001b[1;34m(.0)\u001b[0m\n\u001b[1;32m----> 1\u001b[0m [code \u001b[38;5;28;01mfor\u001b[39;00m codes \u001b[38;5;129;01min\u001b[39;00m live_feed]\n",
      "\u001b[1;31mNameError\u001b[0m: name 'code' is not defined"
     ]
    }
   ],
   "source": []
  },
  {
   "cell_type": "code",
   "execution_count": null,
   "id": "c70948ce",
   "metadata": {},
   "outputs": [],
   "source": []
  }
 ],
 "metadata": {
  "kernelspec": {
   "display_name": "Python 3 (ipykernel)",
   "language": "python",
   "name": "python3"
  },
  "language_info": {
   "codemirror_mode": {
    "name": "ipython",
    "version": 3
   },
   "file_extension": ".py",
   "mimetype": "text/x-python",
   "name": "python",
   "nbconvert_exporter": "python",
   "pygments_lexer": "ipython3",
   "version": "3.11.4"
  }
 },
 "nbformat": 4,
 "nbformat_minor": 5
}
