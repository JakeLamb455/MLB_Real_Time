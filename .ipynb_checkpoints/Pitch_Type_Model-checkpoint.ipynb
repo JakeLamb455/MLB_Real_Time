{
 "cells": [
  {
   "cell_type": "code",
   "execution_count": 98,
   "id": "408cb29c",
   "metadata": {},
   "outputs": [],
   "source": [
    "import pandas as pd\n",
    "import numpy as np\n",
    "from sklearn.ensemble import RandomForestRegressor, BaggingRegressor\n",
    "from sklearn.pipeline import Pipeline\n",
    "from sklearn.preprocessing import OneHotEncoder, FunctionTransformer, StandardScaler\n",
    "from sklearn.compose import ColumnTransformer, make_column_selector\n",
    "from sklearn.metrics import mean_squared_error\n",
    "from sklearn.model_selection import GridSearchCV\n",
    "from sklearn.linear_model import LinearRegression\n",
    "from sklearn.model_selection import train_test_split, cross_val_score\n",
    "from sklearn.neighbors import KNeighborsRegressor, KNeighborsClassifier\n",
    "from sklearn.linear_model import ElasticNet\n",
    "import warnings\n",
    "warnings.filterwarnings('ignore')\n",
    "from sklearn.model_selection import train_test_split\n",
    "from sklearn.pipeline import Pipeline\n",
    "from sklearn.compose import ColumnTransformer\n",
    "from sklearn.preprocessing import StandardScaler\n",
    "from sklearn.linear_model import LinearRegression, RidgeCV, LassoCV, ElasticNetCV\n",
    "from sklearn.svm import LinearSVR\n",
    "from sklearn.tree import DecisionTreeRegressor, DecisionTreeClassifier\n",
    "from sklearn.ensemble import StackingRegressor, RandomForestRegressor, GradientBoostingRegressor, StackingClassifier, RandomForestClassifier\n",
    "from sklearn.neighbors import KNeighborsRegressor\n",
    "from xgboost import XGBRegressor, XGBClassifier\n",
    "from sklearn.ensemble import AdaBoostClassifier\n",
    "from statsmodels.stats.outliers_influence import variance_inflation_factor\n",
    "pd.set_option('display.max_columns', None)\n",
    "from sklearn.preprocessing import LabelEncoder\n",
    "import time\n",
    "import joblib\n",
    "from sklearn.model_selection import StratifiedKFold\n",
    "from sklearn.utils.class_weight import compute_class_weight"
   ]
  },
  {
   "cell_type": "code",
   "execution_count": 33,
   "id": "5de9f8a1",
   "metadata": {},
   "outputs": [],
   "source": [
    "df = pd.read_csv('DataSets/pitcher_data_cleaned.csv')"
   ]
  },
  {
   "cell_type": "code",
   "execution_count": 34,
   "id": "d21cfbd6",
   "metadata": {},
   "outputs": [],
   "source": [
    "df = df[df['pitch_type']!='PO']"
   ]
  },
  {
   "cell_type": "code",
   "execution_count": 35,
   "id": "b668f3a5",
   "metadata": {},
   "outputs": [],
   "source": [
    "df.head()\n",
    "le = LabelEncoder()"
   ]
  },
  {
   "cell_type": "code",
   "execution_count": 36,
   "id": "b33db022",
   "metadata": {},
   "outputs": [],
   "source": [
    "X = df.drop(columns=['pitch_type', 'plate_x', 'plate_z'])\n",
    "y_pitch_type = le.fit_transform(df['pitch_type'])\n",
    "y_plate_x = df[['plate_x']]\n",
    "y_plate_z = df[['plate_z']]"
   ]
  },
  {
   "cell_type": "markdown",
   "id": "151dc58d",
   "metadata": {},
   "source": [
    "preprocessor = ColumnTransformer([\n",
    "    ('dummify', OneHotEncoder(sparse_output=False, handle_unknown='ignore'), ['pitcher', 'batter', 'on_1b', 'on_2b', 'on_3b', 'if_fielding_alignment', 'of_fielding_alignment', 'prev_pitch_type']),\n",
    "    (\"standardize\", StandardScaler(), ['inning', 'balls', 'strikes', 'outs_when_up', 'score_diff'])\n",
    "], remainder='drop')"
   ]
  },
  {
   "cell_type": "code",
   "execution_count": 100,
   "id": "0a916636",
   "metadata": {
    "scrolled": true
   },
   "outputs": [
    {
     "name": "stdout",
     "output_type": "stream",
     "text": [
      "Execution time: 76.36 seconds\n",
      "Best accuracy score: 0.49074330629358576\n",
      "Best parameters: {'boosting__learning_rate': 0.4, 'boosting__max_depth': 4, 'boosting__n_estimators': 75}\n"
     ]
    }
   ],
   "source": [
    "start = time.time()\n",
    "preprocessor = ColumnTransformer([\n",
    "    ('dummify', OneHotEncoder(sparse_output=False, handle_unknown='ignore'), ['pitcher', 'batter', 'on_1b', 'on_2b', 'on_3b', 'if_fielding_alignment', 'of_fielding_alignment', 'prev_pitch_type']),\n",
    "    (\"standardize\", StandardScaler(), ['inning', 'balls', 'strikes', 'outs_when_up', 'score_diff'])\n",
    "], remainder='drop')\n",
    "\n",
    "y_series = pd.Series(y_pitch_type)\n",
    "\n",
    "classes = np.unique(y_pitch_type)\n",
    "class_weights = compute_class_weight('balanced', classes=classes, y=y_pitch_type)\n",
    "class_weight_dict = dict(zip(classes, class_weights))\n",
    "\n",
    "sample_weights = y_series.map(class_weight_dict).values\n",
    "\n",
    "XGB = XGBClassifier(n_jobs=-1)\n",
    "\n",
    "pipeline = Pipeline([\n",
    "    ('preprocessing', preprocessor),\n",
    "    ('boosting', XGB)\n",
    "])\n",
    "\n",
    "param_grid = {\n",
    "    'boosting__max_depth': [4], 'boosting__n_estimators': [75], 'boosting__learning_rate': [.40]}\n",
    "\n",
    "stratified_cv = StratifiedKFold(n_splits=4, shuffle=True, random_state=42)\n",
    "\n",
    "grid_search = GridSearchCV(pipeline, param_grid, cv=stratified_cv, scoring='balanced_accuracy', n_jobs=-1)\n",
    "\n",
    "grid_search.fit(X, y_pitch_type, boosting__sample_weight=sample_weights)\n",
    "end = time.time()\n",
    "\n",
    "print(f\"Execution time: {end - start:.2f} seconds\")\n",
    "print(\"Best accuracy score:\", grid_search.best_score_)\n",
    "print(\"Best parameters:\", grid_search.best_params_)"
   ]
  },
  {
   "cell_type": "code",
   "execution_count": 48,
   "id": "43b8822b",
   "metadata": {},
   "outputs": [],
   "source": [
    "pitch_type_dict = {'ST':'Sweeper', 'CH': \"Changeup\", 'FF': \"Four Seam Fastball\", 'SI': \"Sinker\", 'SL': \"Slider\", 'FC': \"Cutter\", 'CU': \"Curveball\", 'KC': \"Knuckleball\", 'FS': \"Split-finger\"}"
   ]
  },
  {
   "cell_type": "code",
   "execution_count": 49,
   "id": "4b7d093e",
   "metadata": {},
   "outputs": [
    {
     "data": {
      "text/plain": [
       "{'ST': 'Sweeper',\n",
       " 'CH': 'Changeup',\n",
       " 'FF': 'Four Seam Fastball',\n",
       " 'SI': 'Sinker',\n",
       " 'SL': 'Slider',\n",
       " 'FC': 'Cutter',\n",
       " 'CU': 'Curveball',\n",
       " 'KC': 'Knuckleball',\n",
       " 'FS': 'Split-finger'}"
      ]
     },
     "execution_count": 49,
     "metadata": {},
     "output_type": "execute_result"
    }
   ],
   "source": [
    "pitch_type_dict"
   ]
  },
  {
   "cell_type": "code",
   "execution_count": 101,
   "id": "dad6d327",
   "metadata": {
    "scrolled": true
   },
   "outputs": [
    {
     "data": {
      "text/plain": [
       "['best_pitch_model.pkl']"
      ]
     },
     "execution_count": 101,
     "metadata": {},
     "output_type": "execute_result"
    }
   ],
   "source": [
    "joblib.dump(grid_search.best_estimator_, \"best_pitch_model.pkl\")"
   ]
  },
  {
   "cell_type": "code",
   "execution_count": 102,
   "id": "7143450e",
   "metadata": {},
   "outputs": [],
   "source": [
    "model = joblib.load('best_pitch_model.pkl')"
   ]
  },
  {
   "cell_type": "code",
   "execution_count": 107,
   "id": "ad2824a4",
   "metadata": {},
   "outputs": [],
   "source": [
    "realtime_input = pd.DataFrame([{\n",
    "    'pitcher': '605397',\n",
    "    'batter': '606466',\n",
    "    'on_1b': 0,   # or np.nan\n",
    "    'on_2b': 0,\n",
    "    'on_3b': 0,\n",
    "    'if_fielding_alignment': '',\n",
    "    'of_fielding_alignment': '',\n",
    "    'prev_pitch_type': 'FF',\n",
    "    'inning': 2,\n",
    "    'balls': 0,\n",
    "    'strikes': 2,\n",
    "    'outs_when_up': 2,\n",
    "    'score_diff': 0\n",
    "}])"
   ]
  },
  {
   "cell_type": "code",
   "execution_count": 108,
   "id": "a422d966",
   "metadata": {},
   "outputs": [],
   "source": [
    "prediction = model.predict(realtime_input)"
   ]
  },
  {
   "cell_type": "code",
   "execution_count": 109,
   "id": "ee8318d5",
   "metadata": {},
   "outputs": [
    {
     "name": "stdout",
     "output_type": "stream",
     "text": [
      "Predicted pitch type: CH\n"
     ]
    }
   ],
   "source": [
    "pitch_type = le.inverse_transform(prediction)\n",
    "print(\"Predicted pitch type:\", pitch_type[0])"
   ]
  },
  {
   "cell_type": "code",
   "execution_count": 106,
   "id": "d949f3fb",
   "metadata": {},
   "outputs": [
    {
     "name": "stdout",
     "output_type": "stream",
     "text": [
      "3    0.370919\n",
      "7    0.159916\n",
      "6    0.121782\n",
      "0    0.113424\n",
      "8    0.092444\n",
      "5    0.043311\n",
      "2    0.040047\n",
      "1    0.039714\n",
      "4    0.018443\n",
      "dtype: float64\n"
     ]
    }
   ],
   "source": [
    "print(pd.Series(y_pitch_type).value_counts(normalize=True))"
   ]
  },
  {
   "cell_type": "code",
   "execution_count": null,
   "id": "dd104c46",
   "metadata": {},
   "outputs": [],
   "source": []
  }
 ],
 "metadata": {
  "kernelspec": {
   "display_name": "Python 3 (ipykernel)",
   "language": "python",
   "name": "python3"
  },
  "language_info": {
   "codemirror_mode": {
    "name": "ipython",
    "version": 3
   },
   "file_extension": ".py",
   "mimetype": "text/x-python",
   "name": "python",
   "nbconvert_exporter": "python",
   "pygments_lexer": "ipython3",
   "version": "3.11.4"
  }
 },
 "nbformat": 4,
 "nbformat_minor": 5
}
