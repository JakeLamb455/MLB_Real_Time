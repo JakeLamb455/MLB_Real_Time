{
 "cells": [
  {
   "cell_type": "code",
   "execution_count": 4,
   "id": "0ecdea86",
   "metadata": {},
   "outputs": [],
   "source": [
    "import pandas as pd\n",
    "import numpy as np\n",
    "from datetime import date, datetime"
   ]
  },
  {
   "cell_type": "code",
   "execution_count": 5,
   "id": "f81ff6d9",
   "metadata": {},
   "outputs": [
    {
     "name": "stdout",
     "output_type": "stream",
     "text": [
      "Requirement already satisfied: MLB-StatsAPI in c:\\users\\jamla\\anaconda33\\lib\\site-packages (1.9.0)\n",
      "Requirement already satisfied: requests in c:\\users\\jamla\\anaconda33\\lib\\site-packages (from MLB-StatsAPI) (2.31.0)\n",
      "Requirement already satisfied: charset-normalizer<4,>=2 in c:\\users\\jamla\\anaconda33\\lib\\site-packages (from requests->MLB-StatsAPI) (2.0.4)\n",
      "Requirement already satisfied: idna<4,>=2.5 in c:\\users\\jamla\\anaconda33\\lib\\site-packages (from requests->MLB-StatsAPI) (3.4)\n",
      "Requirement already satisfied: urllib3<3,>=1.21.1 in c:\\users\\jamla\\anaconda33\\lib\\site-packages (from requests->MLB-StatsAPI) (2.2.1)\n",
      "Requirement already satisfied: certifi>=2017.4.17 in c:\\users\\jamla\\anaconda33\\lib\\site-packages (from requests->MLB-StatsAPI) (2023.7.22)\n",
      "Note: you may need to restart the kernel to use updated packages.\n"
     ]
    }
   ],
   "source": [
    "pip install MLB-StatsAPI"
   ]
  },
  {
   "cell_type": "code",
   "execution_count": 6,
   "id": "428c0c00",
   "metadata": {},
   "outputs": [],
   "source": [
    "import statsapi"
   ]
  },
  {
   "cell_type": "code",
   "execution_count": 7,
   "id": "ba5a3c72",
   "metadata": {},
   "outputs": [
    {
     "name": "stdout",
     "output_type": "stream",
     "text": [
      "Current Padres Pitchers (13):\n",
      "- Adrian Morejon (ID: 670970)\n",
      "- Alek Jacob (ID: 689690)\n",
      "- Dylan Cease (ID: 656302)\n",
      "- Jason Adam (ID: 592094)\n",
      "- Jeremiah Estrada (ID: 669093)\n",
      "- Michael King (ID: 650633)\n",
      "- Nick Pivetta (ID: 601713)\n",
      "- Randy Vásquez (ID: 681190)\n",
      "- Robert Suarez (ID: 663158)\n",
      "- Sean Reynolds (ID: 669308)\n",
      "- Stephen Kolek (ID: 663568)\n",
      "- Wandy Peralta (ID: 593974)\n",
      "- Yuki Matsui (ID: 673513)\n"
     ]
    }
   ],
   "source": [
    "\n",
    "def get_padres_pitchers():\n",
    "    team_id = 135  # San Diego Padres\n",
    "    roster = statsapi.get('team_roster', {'teamId': team_id})\n",
    "    \n",
    "    pitchers = []\n",
    "    for player in roster.get('roster', []):\n",
    "        if player['position']['type'] == 'Pitcher':\n",
    "            pitchers.append({\n",
    "                'id': player['person']['id'],\n",
    "                'name': player['person']['fullName']\n",
    "            })\n",
    "    return pitchers\n",
    "\n",
    "if __name__ == \"__main__\":\n",
    "    pitchers = get_padres_pitchers()\n",
    "    print(f\"Current Padres Pitchers ({len(pitchers)}):\")\n",
    "    for p in pitchers:\n",
    "        print(f\"- {p['name']} (ID: {p['id']})\")"
   ]
  },
  {
   "cell_type": "code",
   "execution_count": 22,
   "id": "2835b72f",
   "metadata": {},
   "outputs": [],
   "source": [
    "pitchers = get_padres_pitchers()\n",
    "ids = [player['id'] for player in pitchers]"
   ]
  },
  {
   "cell_type": "code",
   "execution_count": 23,
   "id": "f69fb7a9",
   "metadata": {},
   "outputs": [
    {
     "data": {
      "text/plain": [
       "[670970,\n",
       " 689690,\n",
       " 656302,\n",
       " 592094,\n",
       " 669093,\n",
       " 650633,\n",
       " 601713,\n",
       " 681190,\n",
       " 663158,\n",
       " 669308,\n",
       " 663568,\n",
       " 593974,\n",
       " 673513]"
      ]
     },
     "execution_count": 23,
     "metadata": {},
     "output_type": "execute_result"
    }
   ],
   "source": [
    "ids"
   ]
  },
  {
   "cell_type": "code",
   "execution_count": 2,
   "id": "69e52ebe",
   "metadata": {},
   "outputs": [
    {
     "name": "stdout",
     "output_type": "stream",
     "text": [
      "Collecting pybaseballNote: you may need to restart the kernel to use updated packages.\n",
      "\n",
      "  Obtaining dependency information for pybaseball from https://files.pythonhosted.org/packages/bb/66/5ef47f5830570a30afbdfbd741cdf3e5a1a31c4c588514ab69bc074e8704/pybaseball-2.2.7-py3-none-any.whl.metadata\n",
      "  Downloading pybaseball-2.2.7-py3-none-any.whl.metadata (11 kB)\n",
      "Requirement already satisfied: pandas in c:\\users\\jamla\\anaconda33\\lib\\site-packages (1.5.3)\n",
      "Requirement already satisfied: numpy>=1.13.0 in c:\\users\\jamla\\anaconda33\\lib\\site-packages (from pybaseball) (1.24.3)\n",
      "Requirement already satisfied: beautifulsoup4>=4.4.0 in c:\\users\\jamla\\anaconda33\\lib\\site-packages (from pybaseball) (4.12.2)\n",
      "Requirement already satisfied: requests>=2.18.1 in c:\\users\\jamla\\anaconda33\\lib\\site-packages (from pybaseball) (2.31.0)\n",
      "Requirement already satisfied: lxml>=4.2.1 in c:\\users\\jamla\\anaconda33\\lib\\site-packages (from pybaseball) (4.9.2)\n",
      "Requirement already satisfied: pyarrow>=1.0.1 in c:\\users\\jamla\\anaconda33\\lib\\site-packages (from pybaseball) (11.0.0)\n",
      "Collecting pygithub>=1.51 (from pybaseball)\n",
      "  Obtaining dependency information for pygithub>=1.51 from https://files.pythonhosted.org/packages/ac/fc/a444cd19ccc8c4946a512f3827ed0b3565c88488719d800d54a75d541c0b/PyGithub-2.6.1-py3-none-any.whl.metadata\n",
      "  Downloading PyGithub-2.6.1-py3-none-any.whl.metadata (3.9 kB)\n",
      "Requirement already satisfied: scipy>=1.4.0 in c:\\users\\jamla\\anaconda33\\lib\\site-packages (from pybaseball) (1.10.1)\n",
      "Requirement already satisfied: matplotlib>=2.0.0 in c:\\users\\jamla\\anaconda33\\lib\\site-packages (from pybaseball) (3.7.1)\n",
      "Requirement already satisfied: tqdm>=4.50.0 in c:\\users\\jamla\\anaconda33\\lib\\site-packages (from pybaseball) (4.65.0)\n",
      "Requirement already satisfied: attrs>=20.3.0 in c:\\users\\jamla\\anaconda33\\lib\\site-packages (from pybaseball) (22.1.0)\n",
      "Requirement already satisfied: python-dateutil>=2.8.1 in c:\\users\\jamla\\anaconda33\\lib\\site-packages (from pandas) (2.8.2)\n",
      "Requirement already satisfied: pytz>=2020.1 in c:\\users\\jamla\\anaconda33\\lib\\site-packages (from pandas) (2022.7)\n",
      "Requirement already satisfied: soupsieve>1.2 in c:\\users\\jamla\\anaconda33\\lib\\site-packages (from beautifulsoup4>=4.4.0->pybaseball) (2.4)\n",
      "Requirement already satisfied: contourpy>=1.0.1 in c:\\users\\jamla\\anaconda33\\lib\\site-packages (from matplotlib>=2.0.0->pybaseball) (1.0.5)\n",
      "Requirement already satisfied: cycler>=0.10 in c:\\users\\jamla\\anaconda33\\lib\\site-packages (from matplotlib>=2.0.0->pybaseball) (0.11.0)\n",
      "Requirement already satisfied: fonttools>=4.22.0 in c:\\users\\jamla\\anaconda33\\lib\\site-packages (from matplotlib>=2.0.0->pybaseball) (4.25.0)\n",
      "Requirement already satisfied: kiwisolver>=1.0.1 in c:\\users\\jamla\\anaconda33\\lib\\site-packages (from matplotlib>=2.0.0->pybaseball) (1.4.4)\n",
      "Requirement already satisfied: packaging>=20.0 in c:\\users\\jamla\\anaconda33\\lib\\site-packages (from matplotlib>=2.0.0->pybaseball) (23.2)\n",
      "Requirement already satisfied: pillow>=6.2.0 in c:\\users\\jamla\\anaconda33\\lib\\site-packages (from matplotlib>=2.0.0->pybaseball) (9.4.0)\n",
      "Requirement already satisfied: pyparsing>=2.3.1 in c:\\users\\jamla\\anaconda33\\lib\\site-packages (from matplotlib>=2.0.0->pybaseball) (3.0.9)\n",
      "Requirement already satisfied: pynacl>=1.4.0 in c:\\users\\jamla\\anaconda33\\lib\\site-packages (from pygithub>=1.51->pybaseball) (1.5.0)\n",
      "Requirement already satisfied: pyjwt[crypto]>=2.4.0 in c:\\users\\jamla\\anaconda33\\lib\\site-packages (from pygithub>=1.51->pybaseball) (2.4.0)\n",
      "Requirement already satisfied: typing-extensions>=4.0.0 in c:\\users\\jamla\\anaconda33\\lib\\site-packages (from pygithub>=1.51->pybaseball) (4.11.0)\n",
      "Requirement already satisfied: urllib3>=1.26.0 in c:\\users\\jamla\\anaconda33\\lib\\site-packages (from pygithub>=1.51->pybaseball) (2.2.1)\n",
      "Collecting Deprecated (from pygithub>=1.51->pybaseball)\n",
      "  Obtaining dependency information for Deprecated from https://files.pythonhosted.org/packages/6e/c6/ac0b6c1e2d138f1002bcf799d330bd6d85084fece321e662a14223794041/Deprecated-1.2.18-py2.py3-none-any.whl.metadata\n",
      "  Downloading Deprecated-1.2.18-py2.py3-none-any.whl.metadata (5.7 kB)\n",
      "Requirement already satisfied: six>=1.5 in c:\\users\\jamla\\anaconda33\\lib\\site-packages (from python-dateutil>=2.8.1->pandas) (1.16.0)\n",
      "Requirement already satisfied: charset-normalizer<4,>=2 in c:\\users\\jamla\\anaconda33\\lib\\site-packages (from requests>=2.18.1->pybaseball) (2.0.4)\n",
      "Requirement already satisfied: idna<4,>=2.5 in c:\\users\\jamla\\anaconda33\\lib\\site-packages (from requests>=2.18.1->pybaseball) (3.4)\n",
      "Requirement already satisfied: certifi>=2017.4.17 in c:\\users\\jamla\\anaconda33\\lib\\site-packages (from requests>=2.18.1->pybaseball) (2023.7.22)\n",
      "Requirement already satisfied: colorama in c:\\users\\jamla\\anaconda33\\lib\\site-packages (from tqdm>=4.50.0->pybaseball) (0.4.6)\n",
      "Requirement already satisfied: cryptography>=3.3.1 in c:\\users\\jamla\\anaconda33\\lib\\site-packages (from pyjwt[crypto]>=2.4.0->pygithub>=1.51->pybaseball) (41.0.2)\n",
      "Requirement already satisfied: cffi>=1.4.1 in c:\\users\\jamla\\anaconda33\\lib\\site-packages (from pynacl>=1.4.0->pygithub>=1.51->pybaseball) (1.15.1)\n",
      "Requirement already satisfied: wrapt<2,>=1.10 in c:\\users\\jamla\\anaconda33\\lib\\site-packages (from Deprecated->pygithub>=1.51->pybaseball) (1.14.1)\n",
      "Requirement already satisfied: pycparser in c:\\users\\jamla\\anaconda33\\lib\\site-packages (from cffi>=1.4.1->pynacl>=1.4.0->pygithub>=1.51->pybaseball) (2.21)\n",
      "Downloading pybaseball-2.2.7-py3-none-any.whl (426 kB)\n",
      "   ---------------------------------------- 0.0/426.1 kB ? eta -:--:--\n",
      "   ---------------------------- ----------- 307.2/426.1 kB 9.6 MB/s eta 0:00:01\n",
      "   ---------------------------------------- 426.1/426.1 kB 8.8 MB/s eta 0:00:00\n",
      "Downloading PyGithub-2.6.1-py3-none-any.whl (410 kB)\n",
      "   ---------------------------------------- 0.0/410.5 kB ? eta -:--:--\n",
      "   --------------------------------------- 410.5/410.5 kB 12.9 MB/s eta 0:00:00\n",
      "Downloading Deprecated-1.2.18-py2.py3-none-any.whl (10.0 kB)\n",
      "Installing collected packages: Deprecated, pygithub, pybaseball\n",
      "Successfully installed Deprecated-1.2.18 pybaseball-2.2.7 pygithub-2.6.1\n"
     ]
    }
   ],
   "source": [
    "pip install pybaseball pandas\n"
   ]
  },
  {
   "cell_type": "code",
   "execution_count": 13,
   "id": "a28aa9d0",
   "metadata": {
    "scrolled": true
   },
   "outputs": [
    {
     "ename": "TypeError",
     "evalue": "statcast_pitcher() got an unexpected keyword argument 'pitcher_id'",
     "output_type": "error",
     "traceback": [
      "\u001b[1;31m---------------------------------------------------------------------------\u001b[0m",
      "\u001b[1;31mTypeError\u001b[0m                                 Traceback (most recent call last)",
      "Cell \u001b[1;32mIn[13], line 1\u001b[0m\n\u001b[1;32m----> 1\u001b[0m statcast_pitcher(start_dt\u001b[38;5;241m=\u001b[39m\u001b[38;5;124m'\u001b[39m\u001b[38;5;124m2024-01-01\u001b[39m\u001b[38;5;124m'\u001b[39m, end_dt\u001b[38;5;241m=\u001b[39m\u001b[38;5;124m'\u001b[39m\u001b[38;5;124m2025-05-05\u001b[39m\u001b[38;5;124m'\u001b[39m, pitcher_id\u001b[38;5;241m=\u001b[39m\u001b[38;5;241m656302\u001b[39m)\n",
      "\u001b[1;31mTypeError\u001b[0m: statcast_pitcher() got an unexpected keyword argument 'pitcher_id'"
     ]
    }
   ],
   "source": [
    "statcast_pitcher(start_dt='2024-01-01', end_dt='2025-05-05', pitcher_id=656302)"
   ]
  },
  {
   "cell_type": "code",
   "execution_count": 25,
   "id": "ce309b32",
   "metadata": {},
   "outputs": [
    {
     "name": "stdout",
     "output_type": "stream",
     "text": [
      "Fetching data for player 670970 from 2022-01-01 to 2025-05-20 ...\n",
      "Gathering Player Data\n",
      "Fetching data for player 689690 from 2022-01-01 to 2025-05-20 ...\n",
      "Gathering Player Data\n",
      "Fetching data for player 656302 from 2022-01-01 to 2025-05-20 ...\n",
      "Gathering Player Data\n",
      "Fetching data for player 592094 from 2022-01-01 to 2025-05-20 ...\n",
      "Gathering Player Data\n",
      "Fetching data for player 669093 from 2022-01-01 to 2025-05-20 ...\n",
      "Gathering Player Data\n",
      "Fetching data for player 650633 from 2022-01-01 to 2025-05-20 ...\n",
      "Gathering Player Data\n",
      "Fetching data for player 601713 from 2022-01-01 to 2025-05-20 ...\n",
      "Gathering Player Data\n",
      "Fetching data for player 681190 from 2022-01-01 to 2025-05-20 ...\n",
      "Gathering Player Data\n",
      "Fetching data for player 663158 from 2022-01-01 to 2025-05-20 ...\n",
      "Gathering Player Data\n",
      "Fetching data for player 669308 from 2022-01-01 to 2025-05-20 ...\n",
      "Gathering Player Data\n",
      "Fetching data for player 663568 from 2022-01-01 to 2025-05-20 ...\n",
      "Gathering Player Data\n",
      "Fetching data for player 593974 from 2022-01-01 to 2025-05-20 ...\n",
      "Gathering Player Data\n",
      "Fetching data for player 673513 from 2022-01-01 to 2025-05-20 ...\n",
      "Gathering Player Data\n",
      "Total pitches fetched: 39967\n",
      "Saved pitch data to padres_pitch_data.csv\n"
     ]
    }
   ],
   "source": [
    "import pandas as pd\n",
    "from pybaseball import statcast_pitcher\n",
    "from datetime import datetime\n",
    "\n",
    "def fetch_pitcher_data(player_id, start_date=\"2022-01-01\", end_date=None):\n",
    "    if end_date is None:\n",
    "        end_date = datetime.today().strftime(\"%Y-%m-%d\")\n",
    "    print(f\"Fetching data for player {player_id} from {start_date} to {end_date} ...\")\n",
    "    try:\n",
    "        data = statcast_pitcher(start_date, end_date, player_id)\n",
    "        return data\n",
    "    except Exception as e:\n",
    "        print(f\"Error fetching data for player {player_id}: {e}\")\n",
    "        return pd.DataFrame()\n",
    "\n",
    "def fetch_all_pitchers_data(pitchers, start_date=\"2022-01-01\", end_date=None):\n",
    "    all_data = []\n",
    "    for pitcher in pitchers:\n",
    "        df = fetch_pitcher_data(pitcher['id'], start_date, end_date)\n",
    "        if not df.empty:\n",
    "            df['pitcher_name'] = pitcher['name']  # add name for reference\n",
    "            all_data.append(df)\n",
    "    if all_data:\n",
    "        combined = pd.concat(all_data, ignore_index=True)\n",
    "        print(f\"Total pitches fetched: {len(combined)}\")\n",
    "        return combined\n",
    "    else:\n",
    "        print(\"No data fetched for any pitcher.\")\n",
    "        return pd.DataFrame()\n",
    "\n",
    "if __name__ == \"__main__\":\n",
    "    data = fetch_all_pitchers_data(pitchers)\n",
    "    data.to_csv(\"padres_pitch_data.csv\", index=False)\n",
    "    print(\"Saved pitch data to padres_pitch_data.csv\")\n"
   ]
  },
  {
   "cell_type": "code",
   "execution_count": null,
   "id": "fc83d245",
   "metadata": {},
   "outputs": [],
   "source": []
  }
 ],
 "metadata": {
  "kernelspec": {
   "display_name": "Python 3 (ipykernel)",
   "language": "python",
   "name": "python3"
  },
  "language_info": {
   "codemirror_mode": {
    "name": "ipython",
    "version": 3
   },
   "file_extension": ".py",
   "mimetype": "text/x-python",
   "name": "python",
   "nbconvert_exporter": "python",
   "pygments_lexer": "ipython3",
   "version": "3.11.4"
  }
 },
 "nbformat": 4,
 "nbformat_minor": 5
}
